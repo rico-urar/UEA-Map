{
 "metadata": {
  "language_info": {
   "codemirror_mode": {
    "name": "ipython",
    "version": 3
   },
   "file_extension": ".py",
   "mimetype": "text/x-python",
   "name": "python",
   "nbconvert_exporter": "python",
   "pygments_lexer": "ipython3",
   "version": "3.8.5"
  },
  "orig_nbformat": 4,
  "kernelspec": {
   "name": "python3",
   "display_name": "Python 3.8.5 64-bit ('base': conda)"
  },
  "interpreter": {
   "hash": "63ea40ff02ad4bee1124664dd00b68cf0790fe56fa83b4fcfd7292e0c5c4ebaa"
  }
 },
 "nbformat": 4,
 "nbformat_minor": 2,
 "cells": [
  {
   "cell_type": "code",
   "execution_count": null,
   "metadata": {},
   "outputs": [],
   "source": [
    "import numpy as np\n",
    "import matplotlib.pyplot as plt\n",
    "import nibabel as nib"
   ]
  },
  {
   "source": [
    "# Reading the PDF to extract data\n",
    "https://medium.com/@umerfarooq_26378/python-for-pdf-ef0fac2808b0"
   ],
   "cell_type": "markdown",
   "metadata": {}
  },
  {
   "source": [
    "### TABULA-PY"
   ],
   "cell_type": "markdown",
   "metadata": {}
  },
  {
   "cell_type": "code",
   "execution_count": null,
   "metadata": {},
   "outputs": [],
   "source": [
    "# https://github.com/chezou/tabula-py\n"
   ]
  },
  {
   "source": [
    "### PDFMINER"
   ],
   "cell_type": "markdown",
   "metadata": {}
  },
  {
   "cell_type": "code",
   "execution_count": null,
   "metadata": {},
   "outputs": [],
   "source": [
    "# https://github.com/euske/pdfminer\n"
   ]
  },
  {
   "source": [
    "# Data Cleaning "
   ],
   "cell_type": "markdown",
   "metadata": {}
  },
  {
   "cell_type": "code",
   "execution_count": null,
   "metadata": {},
   "outputs": [],
   "source": []
  },
  {
   "source": [
    "# Export Data\n",
    "Into CSV files for visualization on Gephi"
   ],
   "cell_type": "markdown",
   "metadata": {}
  },
  {
   "cell_type": "code",
   "execution_count": null,
   "metadata": {},
   "outputs": [],
   "source": []
  },
  {
   "source": [
    "# Visualizations\n",
    "Directly on Python \n",
    "https://towardsdatascience.com/visualizing-networks-in-python-d70f4cbeb259"
   ],
   "cell_type": "markdown",
   "metadata": {}
  },
  {
   "source": [
    "## PYVIS"
   ],
   "cell_type": "markdown",
   "metadata": {}
  },
  {
   "cell_type": "code",
   "execution_count": 3,
   "metadata": {},
   "outputs": [],
   "source": [
    "# https://pyvis.readthedocs.io/en/latest/tutorial.html\n",
    "from pyvis.network import Network\n",
    "net = Network()"
   ]
  },
  {
   "source": [
    "## NETWORKX"
   ],
   "cell_type": "markdown",
   "metadata": {}
  },
  {
   "cell_type": "code",
   "execution_count": 4,
   "metadata": {},
   "outputs": [],
   "source": [
    "# https://networkx.org/documentation/stable//auto_examples/index.html\n",
    "import networkx as nx"
   ]
  },
  {
   "source": [
    "## VISDCC"
   ],
   "cell_type": "markdown",
   "metadata": {}
  },
  {
   "cell_type": "code",
   "execution_count": 8,
   "metadata": {},
   "outputs": [],
   "source": [
    "# https://github.com/jimmybow/visdcc\n",
    "import dash\n",
    "import dash_core_components as dcc\n",
    "import dash_html_components as html\n",
    "from dash.dependencies import Input, Output, State\n",
    "import visdcc"
   ]
  },
  {
   "cell_type": "code",
   "execution_count": null,
   "metadata": {},
   "outputs": [],
   "source": []
  }
 ]
}